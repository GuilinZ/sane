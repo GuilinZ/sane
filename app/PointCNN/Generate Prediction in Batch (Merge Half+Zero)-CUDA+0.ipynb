{
 "cells": [
  {
   "cell_type": "code",
   "execution_count": 16,
   "metadata": {},
   "outputs": [],
   "source": [
    "#!/usr/bin/python3\n",
    "\"\"\"Testing On Segmentation Task.\"\"\"\n",
    "\n",
    "from __future__ import absolute_import\n",
    "from __future__ import division\n",
    "from __future__ import print_function\n",
    "\n",
    "import os\n",
    "\n",
    "os.environ[\"CUDA_DEVICE_ORDER\"]=\"PCI_BUS_ID\"\n",
    "os.environ[\"CUDA_VISIBLE_DEVICES\"] = str(0)\n",
    "import sys\n",
    "import math\n",
    "import h5py\n",
    "import argparse\n",
    "import importlib\n",
    "import data_utils\n",
    "import numpy as np\n",
    "import tensorflow as tf\n",
    "from datetime import datetime\n",
    "from tqdm import tqdm\n",
    "import pykitti\n"
   ]
  },
  {
   "cell_type": "code",
   "execution_count": 9,
   "metadata": {},
   "outputs": [],
   "source": [
    "batch_size = 1\n",
    "sample_num = 1"
   ]
  },
  {
   "cell_type": "code",
   "execution_count": 10,
   "metadata": {},
   "outputs": [],
   "source": [
    "indices_batch_indices = np.tile(np.reshape(np.arange(batch_size), (batch_size, 1, 1)), (1, sample_num, 1))\n"
   ]
  },
  {
   "cell_type": "code",
   "execution_count": 27,
   "metadata": {},
   "outputs": [],
   "source": [
    "indices_batch_indices.flags.writeable = False"
   ]
  },
  {
   "cell_type": "code",
   "execution_count": 21,
   "metadata": {},
   "outputs": [
    {
     "data": {
      "text/plain": [
       "array([0])"
      ]
     },
     "execution_count": 21,
     "metadata": {},
     "output_type": "execute_result"
    }
   ],
   "source": [
    "np.array(indices_batch_indices[0][0])"
   ]
  },
  {
   "cell_type": "code",
   "execution_count": 28,
   "metadata": {},
   "outputs": [
    {
     "ename": "TypeError",
     "evalue": "unhashable type: 'numpy.ndarray'",
     "output_type": "error",
     "traceback": [
      "\u001b[0;31m---------------------------------------------------------------------------\u001b[0m",
      "\u001b[0;31mTypeError\u001b[0m                                 Traceback (most recent call last)",
      "\u001b[0;32m<ipython-input-28-9d61e3835340>\u001b[0m in \u001b[0;36m<module>\u001b[0;34m()\u001b[0m\n\u001b[0;32m----> 1\u001b[0;31m \u001b[0;32mprint\u001b[0m\u001b[0;34m(\u001b[0m\u001b[0mhash\u001b[0m\u001b[0;34m(\u001b[0m\u001b[0mindices_batch_indices\u001b[0m \u001b[0;34m)\u001b[0m \u001b[0;34m)\u001b[0m\u001b[0;34m\u001b[0m\u001b[0m\n\u001b[0m",
      "\u001b[0;31mTypeError\u001b[0m: unhashable type: 'numpy.ndarray'"
     ]
    }
   ],
   "source": [
    "print(hash(indices_batch_indices ) )"
   ]
  },
  {
   "cell_type": "code",
   "execution_count": null,
   "metadata": {},
   "outputs": [],
   "source": []
  },
  {
   "cell_type": "code",
   "execution_count": null,
   "metadata": {},
   "outputs": [],
   "source": []
  },
  {
   "cell_type": "code",
   "execution_count": null,
   "metadata": {},
   "outputs": [],
   "source": []
  },
  {
   "cell_type": "code",
   "execution_count": null,
   "metadata": {},
   "outputs": [],
   "source": []
  },
  {
   "cell_type": "code",
   "execution_count": 2,
   "metadata": {},
   "outputs": [],
   "source": [
    "__predicate = \"random-XYZ-grid-0.25\"\n",
    "_file_loc  = \"/home/hasan/data/hdd8TB/KITTI/3D-object-detection/\"\n",
    "_file_loc_raw_data  = _file_loc + \"dataset/\"\n",
    "\n",
    "__dataset = _file_loc+\"/pointcnn-dataset/\"+__predicate+\"/val_files.txt\"\n",
    "\n",
    "__dataset_final_result = _file_loc+\"/pointcnn-dataset/\"+__predicate+\"/val/\"\n",
    "\n",
    "__model = _file_loc+\"/pointcnn-model/\"+__predicate+\"/pointcnn_seg_kitti3d_x8_2048_fps_2019-04-09-19-00-45_10534/ckpt-best/0.9259112-iter--150000\"\n",
    "\n",
    "pred_path = _file_loc+\"/pointcnn-dataset/\"+__predicate+\"/val\"\n"
   ]
  },
  {
   "cell_type": "code",
   "execution_count": 3,
   "metadata": {},
   "outputs": [],
   "source": [
    "\n",
    "_traindata = _file_loc_raw_data + \"training/val.txt\"\n",
    "_traindatacontent = open(_traindata, \"r\")\n",
    "testlists = _traindatacontent.readlines()\n",
    "testlists = [int(_d) for _d in testlists]"
   ]
  },
  {
   "cell_type": "code",
   "execution_count": null,
   "metadata": {},
   "outputs": [],
   "source": []
  },
  {
   "cell_type": "code",
   "execution_count": 4,
   "metadata": {
    "scrolled": false
   },
   "outputs": [
    {
     "name": "stdout",
     "output_type": "stream",
     "text": [
      "WARNING:tensorflow:From pointfly.py:193: calling reduce_sum (from tensorflow.python.ops.math_ops) with keep_dims is deprecated and will be removed in a future version.\n",
      "Instructions for updating:\n",
      "keep_dims is deprecated, use keepdims instead\n",
      "2019-04-18 17:32:20.506435-Parameter number: 11510276.\n",
      "INFO:tensorflow:Restoring parameters from /home/hasan/data/hdd8TB/KITTI/3D-object-detection//pointcnn-model/random-XYZ-grid-0.25/pointcnn_seg_kitti3d_x8_2048_fps_2019-04-09-19-00-45_10534/ckpt-best/0.9259112-iter--150000\n",
      "2019-04-18 17:32:21.937763-Checkpoint loaded from /home/hasan/data/hdd8TB/KITTI/3D-object-detection//pointcnn-model/random-XYZ-grid-0.25/pointcnn_seg_kitti3d_x8_2048_fps_2019-04-09-19-00-45_10534/ckpt-best/0.9259112-iter--150000!\n",
      "2019-04-18 17:32:21.938568-Reading /home/hasan/data/hdd8TB/KITTI/3D-object-detection//pointcnn-dataset/random-XYZ-grid-0.25/./val/val_zero_0.h5...\n"
     ]
    },
    {
     "name": "stderr",
     "output_type": "stream",
     "text": [
      "100%|██████████| 10240/10240 [42:51<00:00,  4.08it/s]\n"
     ]
    },
    {
     "name": "stdout",
     "output_type": "stream",
     "text": [
      "2019-04-18 18:15:18.898252-Saving /home/hasan/data/hdd8TB/KITTI/3D-object-detection//pointcnn-dataset/random-XYZ-grid-0.25/./val/val_zero_0random-XYZ-grid-0.25_pred.h5...\n"
     ]
    },
    {
     "name": "stderr",
     "output_type": "stream",
     "text": [
      "100%|██████████| 10240/10240 [42:23<00:00,  4.16it/s]\n"
     ]
    },
    {
     "name": "stdout",
     "output_type": "stream",
     "text": [
      "2019-04-18 18:16:03.246411-Reading /home/hasan/data/hdd8TB/KITTI/3D-object-detection//pointcnn-dataset/random-XYZ-grid-0.25/./val/val_zero_1.h5...\n",
      "2019-04-18 18:58:53.250622-Saving /home/hasan/data/hdd8TB/KITTI/3D-object-detection//pointcnn-dataset/random-XYZ-grid-0.25/./val/val_zero_1random-XYZ-grid-0.25_pred.h5...\n",
      "2019-04-18 18:59:26.964478-Reading /home/hasan/data/hdd8TB/KITTI/3D-object-detection//pointcnn-dataset/random-XYZ-grid-0.25/./val/val_zero_2.h5...\n"
     ]
    },
    {
     "name": "stderr",
     "output_type": "stream",
     "text": [
      "100%|██████████| 10030/10030 [41:25<00:00,  4.08it/s]\n"
     ]
    },
    {
     "name": "stdout",
     "output_type": "stream",
     "text": [
      "2019-04-18 19:41:18.004399-Saving /home/hasan/data/hdd8TB/KITTI/3D-object-detection//pointcnn-dataset/random-XYZ-grid-0.25/./val/val_zero_2random-XYZ-grid-0.25_pred.h5...\n",
      "2019-04-18 19:41:46.150189-Done!\n"
     ]
    }
   ],
   "source": [
    "args = {\n",
    "        'load_ckpt' : __model,\n",
    "        'repeat_num' : 1,\n",
    "        'setting' : \"kitti3d_x8_2048_fps\",\n",
    "        'save_ply' : False,\n",
    "        'model' : \"pointcnn_seg\",\n",
    "        'max_point_num' : 10000,\n",
    "        'filelist' : __dataset\n",
    "}\n",
    "\n",
    "model = importlib.import_module(args['model'])\n",
    "setting_path = os.path.join(_file_loc+\"/PointCNN/\", args['model'])\n",
    "sys.path.append(setting_path)\n",
    "setting = importlib.import_module(args['setting'])\n",
    "\n",
    "sample_num = setting.sample_num\n",
    "max_point_num = args['max_point_num']\n",
    "batch_size = args['repeat_num'] * int(math.ceil(max_point_num / sample_num))\n",
    "\n",
    "######################################################################\n",
    "# Placeholders\n",
    "indices = tf.placeholder(tf.int32, shape=(batch_size, None, 2), name=\"indices\")\n",
    "is_training = tf.placeholder(tf.bool, name='is_training')\n",
    "pts_fts = tf.placeholder(tf.float32, shape=(batch_size, max_point_num, setting.data_dim), name='points')\n",
    "######################################################################\n",
    "\n",
    "######################################################################\n",
    "pts_fts_sampled = tf.gather_nd(pts_fts, indices=indices, name='pts_fts_sampled')\n",
    "if setting.data_dim > 3:\n",
    "    points_sampled, features_sampled = tf.split(pts_fts_sampled,\n",
    "                                                [3, setting.data_dim - 3],\n",
    "                                                axis=-1,\n",
    "                                                name='split_points_features')\n",
    "    if not setting.use_extra_features:\n",
    "        features_sampled = None\n",
    "else:\n",
    "    points_sampled = pts_fts_sampled\n",
    "    features_sampled = None\n",
    "\n",
    "net = model.Net(points_sampled, features_sampled, is_training, setting)\n",
    "seg_probs_op = tf.nn.softmax(net.logits, name='seg_probs')\n",
    "\n",
    "# for restore model\n",
    "saver = tf.train.Saver()\n",
    "\n",
    "parameter_num = np.sum([np.prod(v.shape.as_list()) for v in tf.trainable_variables()])\n",
    "print('{}-Parameter number: {:d}.'.format(datetime.now(), parameter_num))\n",
    "\n",
    "\n",
    "with tf.Session() as sess:\n",
    "    # Load the model\n",
    "    saver.restore(sess, args['load_ckpt'])\n",
    "    print('{}-Checkpoint loaded from {}!'.format(datetime.now(), args['load_ckpt']))\n",
    "\n",
    "    indices_batch_indices = np.tile(np.reshape(np.arange(batch_size), (batch_size, 1, 1)), (1, sample_num, 1))\n",
    "\n",
    "    folder = os.path.dirname(args['filelist'])\n",
    "    filenames = [os.path.join(folder, line.strip()) for line in open(args['filelist'])]\n",
    "    for filename in filenames:\n",
    "        print('{}-Reading {}...'.format(datetime.now(), filename))\n",
    "        data_h5 = h5py.File(filename)\n",
    "        data = data_h5['data'][:,:,:4].astype(np.float32)\n",
    "        data_num = data_h5['data_num'][...].astype(np.int32)\n",
    "        original_label = data_h5['label'][...].astype(np.int64)\n",
    "        batch_num = data.shape[0]\n",
    "\n",
    "        labels_pred = np.full((batch_num, max_point_num), -1, dtype=np.int32)\n",
    "        confidences_pred = np.zeros((batch_num, max_point_num), dtype=np.float32)\n",
    "\n",
    "        #print('{}-{:d} testing batches.'.format(datetime.now(), batch_num))\n",
    "        for batch_idx in tqdm(range(batch_num)):\n",
    "            #if batch_idx % 10 == 0:\n",
    "            #print('{}-Processing {} of {} batches.'.format(datetime.now(), batch_idx, batch_num))\n",
    "            points_batch = data[[batch_idx] * batch_size, ...]\n",
    "            point_num = data_num[batch_idx]\n",
    "            if(point_num <= 10):\n",
    "                continue \n",
    "\n",
    "            tile_num = int(math.ceil((sample_num * batch_size) / point_num))\n",
    "            indices_shuffle = np.tile(np.arange(point_num), tile_num)[0:sample_num * batch_size]\n",
    "            np.random.shuffle(indices_shuffle)\n",
    "            indices_batch_shuffle = np.reshape(indices_shuffle, (batch_size, sample_num, 1))\n",
    "            indices_batch = np.concatenate((indices_batch_indices, indices_batch_shuffle), axis=2)\n",
    "\n",
    "            seg_probs = sess.run([seg_probs_op],\n",
    "                                    feed_dict={\n",
    "                                        pts_fts: points_batch,\n",
    "                                        indices: indices_batch,\n",
    "                                        is_training: False,\n",
    "                                    })\n",
    "            probs_2d = np.reshape(seg_probs, (sample_num * batch_size, -1))\n",
    "\n",
    "            predictions = [(-1, 0.0)] * point_num\n",
    "            for idx in range(sample_num * batch_size):\n",
    "                point_idx = indices_shuffle[idx]\n",
    "                probs = probs_2d[idx, :]\n",
    "                confidence = np.amax(probs)\n",
    "                label = np.argmax(probs)\n",
    "                if confidence > predictions[point_idx][1]:\n",
    "                    predictions[point_idx] = [label, confidence]\n",
    "            labels_pred[batch_idx, 0:point_num] = np.array([label for label, _ in predictions])\n",
    "            confidences_pred[batch_idx, 0:point_num] = np.array([confidence for _, confidence in predictions])\n",
    "\n",
    "        filename_pred = filename[:-3] + __predicate+ '_pred.h5'\n",
    "        print('{}-Saving {}...'.format(datetime.now(), filename_pred))\n",
    "        file = h5py.File(filename_pred, 'w')\n",
    "        file.create_dataset('data_num', data=data_num)\n",
    "        file.create_dataset('label_seg', data=labels_pred)\n",
    "        file.create_dataset('original_label', data=original_label)\n",
    "        file.create_dataset('data', data=data)\n",
    "        file.create_dataset('confidence', data=confidences_pred)\n",
    "        has_indices = 'indices_split_to_full' in data_h5\n",
    "        if has_indices:\n",
    "            file.create_dataset('indices_split_to_full', data=data_h5['indices_split_to_full'][...])\n",
    "        file.close()\n",
    "\n",
    "        if args['save_ply']:\n",
    "            print('{}-Saving ply of {}...'.format(datetime.now(), filename_pred))\n",
    "            filepath_label_ply = os.path.join(filename_pred[:-3] + 'ply_label')\n",
    "            data_utils.save_ply_property_batch(data[:, :, 0:3], labels_pred[...],\n",
    "                                               filepath_label_ply, data_num[...], setting.num_class)\n",
    "        ######################################################################\n",
    "    print('{}-Done!'.format(datetime.now()))\n"
   ]
  },
  {
   "cell_type": "code",
   "execution_count": 5,
   "metadata": {},
   "outputs": [],
   "source": [
    "\n",
    "pred_list = [pred for pred in os.listdir(pred_path) if pred.split(\".\")[-1] == \"h5\" and __predicate in pred]"
   ]
  },
  {
   "cell_type": "code",
   "execution_count": 6,
   "metadata": {},
   "outputs": [
    {
     "name": "stderr",
     "output_type": "stream",
     "text": [
      "100%|██████████| 3/3 [00:16<00:00,  5.59s/it]\n"
     ]
    }
   ],
   "source": [
    "pred_list\n",
    "\n",
    "_result_preds = {}\n",
    "\n",
    "for i in testlists:\n",
    "    _result_preds[i] = [[]] #[[]Zero, []Half, FrameID]\n",
    "    \n",
    "for _file in tqdm(pred_list):\n",
    "\n",
    "    \n",
    "    origin_filename =  _file.replace(__predicate+ '_pred.h5', \".h5\")\n",
    "    #print(os.path.join(pred_path, origin_filename))\n",
    "    input_data = h5py.File(os.path.join(pred_path, origin_filename))\n",
    "    label = input_data['label'][...].astype(np.int32)\n",
    "    \n",
    "    frameids = np.unique(label)\n",
    "    \n",
    "    data = h5py.File(os.path.join(pred_path, _file))\n",
    "    \n",
    "\n",
    "    data_points = data['data'][:,:,:4].astype(np.float32)\n",
    "    original_label = data['original_label'][...].astype(np.int64)\n",
    "\n",
    "        \n",
    "    labels_seg = data['label_seg'][...].astype(np.int64)\n",
    "    indices = data['indices_split_to_full'][...].astype(np.int64)\n",
    "    confidence = data['confidence'][...].astype(np.float32)\n",
    "    data_num = data['data_num'][...].astype(np.int64)\n",
    "    \n",
    "    for frame_id in (frameids):\n",
    "        labels_seg_frame = []\n",
    "        confidence_frame = []\n",
    "        idx_frame = []\n",
    "        ptnum_frame = []\n",
    "        indices_frame = np.nonzero(label==frame_id)\n",
    "        for i in  indices_frame[0]:\n",
    "\n",
    "            ptnum_frame.append(data_num[i])\n",
    "            idx_frame.append(indices[i,:data_num[i]])\n",
    "            labels_seg_frame.append(labels_seg[i,:data_num[i]])\n",
    "            confidence_frame.append(confidence[i,:data_num[i]])\n",
    "            \n",
    "        idx_frame = np.concatenate(idx_frame)\n",
    "        labels_seg_frame = np.concatenate(labels_seg_frame)\n",
    "        labels_seg_frame = labels_seg_frame.astype(int)\n",
    "        confidence_frame = np.concatenate(confidence_frame)\n",
    "        \n",
    "        is_half = 1 if \"_half_\" in origin_filename else 0\n",
    "        \n",
    "        _result_preds[frame_id][is_half] = [labels_seg_frame, confidence_frame, ptnum_frame, idx_frame]\n",
    "        \n",
    "    "
   ]
  },
  {
   "cell_type": "code",
   "execution_count": 7,
   "metadata": {},
   "outputs": [
    {
     "name": "stderr",
     "output_type": "stream",
     "text": [
      "100%|██████████| 2336/2336 [20:48<00:00,  1.78it/s]\n"
     ]
    }
   ],
   "source": [
    "\n",
    "final_label = {}\n",
    "\n",
    "for _i in tqdm(testlists):\n",
    "    \n",
    "    if len(_result_preds[_i][0][3]) == 0: # or len(_result_preds[_i][1][3]) == 0 :\n",
    "        print(\"NO DATA\", _i)\n",
    "        continue\n",
    "        \n",
    "    label_length = max(_result_preds[_i][0][3])+1 # max(max(_result_preds[_i][0][3]), max(_result_preds[_i][1][3]) )+1\n",
    "\n",
    "    merged_label_zero = np.zeros((label_length),dtype=int)\n",
    "    merged_confidence_zero = np.zeros((label_length),dtype=float)\n",
    "    merged_label_half = np.zeros((label_length), dtype=int)\n",
    "    merged_confidence_half = np.zeros((label_length), dtype=float)\n",
    "\n",
    "\n",
    "    final_label[_i] =  np.zeros((label_length), dtype=int) #[[]Zero, []Half, FrameID]\n",
    "    \n",
    "    is_zero = True \n",
    "    for pred_data in _result_preds[_i]:\n",
    "    \n",
    "        labels_seg = pred_data[0].astype(np.int64)\n",
    "        indices = pred_data[3].astype(np.int64)\n",
    "        confidence = pred_data[1].astype(np.float32)\n",
    "        data_num = np.array(pred_data[2]).astype(np.int64)\n",
    "\n",
    "        if is_zero:\n",
    "            for i in range(labels_seg.shape[0]):\n",
    "                \n",
    "                 if confidence[i] > merged_confidence_zero[indices[i]]:\n",
    "                    merged_confidence_zero[indices[i]] = confidence[i]\n",
    "                    merged_label_zero[indices[i]] = labels_seg[i]\n",
    "                                \n",
    "        else:\n",
    "            for i in range(labels_seg.shape[0]):\n",
    "                 if confidence[i] > merged_confidence_half[indices[i]]:\n",
    "                    merged_confidence_half[indices[i]] = confidence[i]\n",
    "                    merged_label_half[indices[i]] = labels_seg[i]\n",
    "                \n",
    "        is_zero = False\n",
    "\n",
    "    final_label[_i][merged_confidence_zero >= merged_confidence_half] = merged_label_zero[merged_confidence_zero >= merged_confidence_half]\n",
    "    final_label[_i][merged_confidence_zero < merged_confidence_half] = merged_label_half[merged_confidence_zero < merged_confidence_half]"
   ]
  },
  {
   "cell_type": "code",
   "execution_count": 8,
   "metadata": {},
   "outputs": [],
   "source": [
    "np.savez(__dataset_final_result + __predicate +\"-final-pred.npz\", final_label)"
   ]
  },
  {
   "cell_type": "code",
   "execution_count": 9,
   "metadata": {},
   "outputs": [
    {
     "data": {
      "text/plain": [
       "'/home/hasan/data/hdd8TB/KITTI/3D-object-detection//pointcnn-dataset/random-XYZ-grid-0.25/val/random-XYZ-grid-0.25-final-pred.npz'"
      ]
     },
     "execution_count": 9,
     "metadata": {},
     "output_type": "execute_result"
    }
   ],
   "source": [
    "__dataset_final_result + __predicate +\"-final-pred.npz\""
   ]
  },
  {
   "cell_type": "code",
   "execution_count": null,
   "metadata": {},
   "outputs": [],
   "source": []
  }
 ],
 "metadata": {
  "kernelspec": {
   "display_name": "Python 2",
   "language": "python",
   "name": "python2"
  },
  "language_info": {
   "codemirror_mode": {
    "name": "ipython",
    "version": 2
   },
   "file_extension": ".py",
   "mimetype": "text/x-python",
   "name": "python",
   "nbconvert_exporter": "python",
   "pygments_lexer": "ipython2",
   "version": "2.7.15"
  }
 },
 "nbformat": 4,
 "nbformat_minor": 2
}
