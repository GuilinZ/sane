{
 "cells": [
  {
   "cell_type": "code",
   "execution_count": 1,
   "metadata": {},
   "outputs": [],
   "source": [
    "#!/usr/bin/python3\n",
    "\"\"\"Testing On Segmentation Task.\"\"\"\n",
    "\n",
    "from __future__ import absolute_import\n",
    "from __future__ import division\n",
    "from __future__ import print_function\n",
    "\n",
    "import os\n",
    "\n",
    "os.environ[\"CUDA_DEVICE_ORDER\"]=\"PCI_BUS_ID\"\n",
    "os.environ[\"CUDA_VISIBLE_DEVICES\"] = str(1)\n",
    "import sys\n",
    "import math\n",
    "import h5py\n",
    "import argparse\n",
    "import importlib\n",
    "import data_utils\n",
    "import numpy as np\n",
    "import tensorflow as tf\n",
    "from datetime import datetime\n",
    "from tqdm import tqdm\n",
    "import pykitti\n",
    "\n",
    "import pointfly as pf\n",
    "\n",
    "from xcrf_layer import learningBlock"
   ]
  },
  {
   "cell_type": "code",
   "execution_count": 2,
   "metadata": {},
   "outputs": [],
   "source": [
    "__predicate = \"block-100\"\n",
    "_file_loc  = \"/home/hasan/data/hdd8TB/KITTI/3D-object-detection/\"\n",
    "_file_loc_raw_data  = _file_loc + \"/dataset\"\n",
    "__dataset = _file_loc+\"/pointcnn-dataset/with-reflectance+merged-10000+non-normalized+\"+__predicate+\"/val_files.txt\"\n",
    "__dataset_final_result = _file_loc+\"/pointcnn-dataset/with-reflectance+merged-10000+non-normalized+\"+__predicate+\"/val/A-XCRF\"\n",
    "__model = _file_loc+\"/pointcnn-model/A-XCRF+with-reflectance+merged-10000+non-normalized+\"+__predicate+\"/pointcnn_seg_kitti3d_x8_2048_fps_2019-04-02-23-22-45_8763/ckpt-best/0.9191338-iter--190000\"\n",
    "\n",
    "pred_path = _file_loc+\"/pointcnn-dataset/with-reflectance+merged-10000+non-normalized+\"+__predicate+\"/val\"\n"
   ]
  },
  {
   "cell_type": "code",
   "execution_count": 3,
   "metadata": {},
   "outputs": [],
   "source": [
    "\n",
    "_traindata = _file_loc + \"dataset/training/val.txt\"\n",
    "_traindatacontent = open(_traindata, \"r\")\n",
    "testlists = _traindatacontent.readlines()\n",
    "testlists = [int(_d) for _d in testlists]"
   ]
  },
  {
   "cell_type": "code",
   "execution_count": null,
   "metadata": {},
   "outputs": [],
   "source": []
  },
  {
   "cell_type": "code",
   "execution_count": 4,
   "metadata": {
    "scrolled": false
   },
   "outputs": [
    {
     "name": "stdout",
     "output_type": "stream",
     "text": [
      "WARNING:tensorflow:From pointfly.py:193: calling reduce_sum (from tensorflow.python.ops.math_ops) with keep_dims is deprecated and will be removed in a future version.\n",
      "Instructions for updating:\n",
      "keep_dims is deprecated, use keepdims instead\n",
      "2019-04-05 17:20:19.128663-Parameter number: 11510396.\n",
      "INFO:tensorflow:Restoring parameters from /home/hasan/data/hdd8TB/KITTI/3D-object-detection//pointcnn-model/A-XCRF+with-reflectance+merged-10000+non-normalized+block-100/pointcnn_seg_kitti3d_x8_2048_fps_2019-04-02-23-22-45_8763/ckpt-best/0.9191338-iter--190000\n",
      "2019-04-05 17:20:21.207762-Checkpoint loaded from /home/hasan/data/hdd8TB/KITTI/3D-object-detection//pointcnn-model/A-XCRF+with-reflectance+merged-10000+non-normalized+block-100/pointcnn_seg_kitti3d_x8_2048_fps_2019-04-02-23-22-45_8763/ckpt-best/0.9191338-iter--190000!\n",
      "2019-04-05 17:20:21.208685-Reading /home/hasan/data/hdd8TB/KITTI/3D-object-detection//pointcnn-dataset/with-reflectance+merged-10000+non-normalized+block-100/./val/val_half_0.h5...\n"
     ]
    },
    {
     "name": "stderr",
     "output_type": "stream",
     "text": [
      "100%|██████████| 10239/10239 [38:00<00:00,  4.28it/s]\n"
     ]
    },
    {
     "name": "stdout",
     "output_type": "stream",
     "text": [
      "2019-04-05 17:59:05.391775-Saving /home/hasan/data/hdd8TB/KITTI/3D-object-detection//pointcnn-dataset/with-reflectance+merged-10000+non-normalized+block-100/./val/val_half_0block-100_pred.h5...\n",
      "2019-04-05 17:59:19.342517-Reading /home/hasan/data/hdd8TB/KITTI/3D-object-detection//pointcnn-dataset/with-reflectance+merged-10000+non-normalized+block-100/./val/val_half_1.h5...\n"
     ]
    },
    {
     "name": "stderr",
     "output_type": "stream",
     "text": [
      "100%|██████████| 10238/10238 [38:01<00:00,  4.47it/s]\n"
     ]
    },
    {
     "name": "stdout",
     "output_type": "stream",
     "text": [
      "2019-04-05 18:38:13.248585-Saving /home/hasan/data/hdd8TB/KITTI/3D-object-detection//pointcnn-dataset/with-reflectance+merged-10000+non-normalized+block-100/./val/val_half_1block-100_pred.h5...\n",
      "2019-04-05 18:38:28.376467-Reading /home/hasan/data/hdd8TB/KITTI/3D-object-detection//pointcnn-dataset/with-reflectance+merged-10000+non-normalized+block-100/./val/val_half_2.h5...\n"
     ]
    },
    {
     "name": "stderr",
     "output_type": "stream",
     "text": [
      "100%|██████████| 10239/10239 [37:42<00:00,  3.79it/s]\n"
     ]
    },
    {
     "name": "stdout",
     "output_type": "stream",
     "text": [
      "2019-04-05 19:17:01.526714-Saving /home/hasan/data/hdd8TB/KITTI/3D-object-detection//pointcnn-dataset/with-reflectance+merged-10000+non-normalized+block-100/./val/val_half_2block-100_pred.h5...\n",
      "2019-04-05 19:17:16.193132-Reading /home/hasan/data/hdd8TB/KITTI/3D-object-detection//pointcnn-dataset/with-reflectance+merged-10000+non-normalized+block-100/./val/val_half_3.h5...\n"
     ]
    },
    {
     "name": "stderr",
     "output_type": "stream",
     "text": [
      "100%|██████████| 4292/4292 [15:48<00:00,  3.96it/s]\n"
     ]
    },
    {
     "name": "stdout",
     "output_type": "stream",
     "text": [
      "2019-04-05 19:33:21.094723-Saving /home/hasan/data/hdd8TB/KITTI/3D-object-detection//pointcnn-dataset/with-reflectance+merged-10000+non-normalized+block-100/./val/val_half_3block-100_pred.h5...\n",
      "2019-04-05 19:33:27.268511-Reading /home/hasan/data/hdd8TB/KITTI/3D-object-detection//pointcnn-dataset/with-reflectance+merged-10000+non-normalized+block-100/./val/val_zero_0.h5...\n"
     ]
    },
    {
     "name": "stderr",
     "output_type": "stream",
     "text": [
      "100%|██████████| 10240/10240 [37:48<00:00,  4.60it/s]\n"
     ]
    },
    {
     "name": "stdout",
     "output_type": "stream",
     "text": [
      "2019-04-05 20:11:59.501373-Saving /home/hasan/data/hdd8TB/KITTI/3D-object-detection//pointcnn-dataset/with-reflectance+merged-10000+non-normalized+block-100/./val/val_zero_0block-100_pred.h5...\n",
      "2019-04-05 20:12:20.814944-Reading /home/hasan/data/hdd8TB/KITTI/3D-object-detection//pointcnn-dataset/with-reflectance+merged-10000+non-normalized+block-100/./val/val_zero_1.h5...\n"
     ]
    },
    {
     "name": "stderr",
     "output_type": "stream",
     "text": [
      "100%|██████████| 10240/10240 [37:43<00:00,  4.75it/s]\n"
     ]
    },
    {
     "name": "stdout",
     "output_type": "stream",
     "text": [
      "2019-04-05 20:50:48.170560-Saving /home/hasan/data/hdd8TB/KITTI/3D-object-detection//pointcnn-dataset/with-reflectance+merged-10000+non-normalized+block-100/./val/val_zero_1block-100_pred.h5...\n",
      "2019-04-05 20:51:02.725093-Reading /home/hasan/data/hdd8TB/KITTI/3D-object-detection//pointcnn-dataset/with-reflectance+merged-10000+non-normalized+block-100/./val/val_zero_2.h5...\n"
     ]
    },
    {
     "name": "stderr",
     "output_type": "stream",
     "text": [
      "100%|██████████| 10240/10240 [37:47<00:00,  4.65it/s]\n"
     ]
    },
    {
     "name": "stdout",
     "output_type": "stream",
     "text": [
      "2019-04-05 21:29:42.483486-Saving /home/hasan/data/hdd8TB/KITTI/3D-object-detection//pointcnn-dataset/with-reflectance+merged-10000+non-normalized+block-100/./val/val_zero_2block-100_pred.h5...\n",
      "2019-04-05 21:29:57.083306-Reading /home/hasan/data/hdd8TB/KITTI/3D-object-detection//pointcnn-dataset/with-reflectance+merged-10000+non-normalized+block-100/./val/val_zero_3.h5...\n"
     ]
    },
    {
     "ename": "IOError",
     "evalue": "Unable to create file (unable to open file: name = '/home/hasan/data/hdd8TB/KITTI/3D-object-detection//pointcnn-dataset/with-reflectance+merged-10000+non-normalized+block-100/./val/val_zero_3.h5', errno = 17, error message = 'File exists', flags = 15, o_flags = c2)",
     "output_type": "error",
     "traceback": [
      "\u001b[0;31m\u001b[0m",
      "\u001b[0;31mIOError\u001b[0mTraceback (most recent call last)",
      "\u001b[0;32m<ipython-input-4-f296edd80be5>\u001b[0m in \u001b[0;36m<module>\u001b[0;34m()\u001b[0m\n\u001b[1;32m     93\u001b[0m     \u001b[0;32mfor\u001b[0m \u001b[0mfilename\u001b[0m \u001b[0;32min\u001b[0m \u001b[0mfilenames\u001b[0m\u001b[0;34m:\u001b[0m\u001b[0;34m\u001b[0m\u001b[0m\n\u001b[1;32m     94\u001b[0m         \u001b[0;32mprint\u001b[0m\u001b[0;34m(\u001b[0m\u001b[0;34m'{}-Reading {}...'\u001b[0m\u001b[0;34m.\u001b[0m\u001b[0mformat\u001b[0m\u001b[0;34m(\u001b[0m\u001b[0mdatetime\u001b[0m\u001b[0;34m.\u001b[0m\u001b[0mnow\u001b[0m\u001b[0;34m(\u001b[0m\u001b[0;34m)\u001b[0m\u001b[0;34m,\u001b[0m \u001b[0mfilename\u001b[0m\u001b[0;34m)\u001b[0m\u001b[0;34m)\u001b[0m\u001b[0;34m\u001b[0m\u001b[0m\n\u001b[0;32m---> 95\u001b[0;31m         \u001b[0mdata_h5\u001b[0m \u001b[0;34m=\u001b[0m \u001b[0mh5py\u001b[0m\u001b[0;34m.\u001b[0m\u001b[0mFile\u001b[0m\u001b[0;34m(\u001b[0m\u001b[0mfilename\u001b[0m\u001b[0;34m)\u001b[0m\u001b[0;34m\u001b[0m\u001b[0m\n\u001b[0m\u001b[1;32m     96\u001b[0m         \u001b[0mdata\u001b[0m \u001b[0;34m=\u001b[0m \u001b[0mdata_h5\u001b[0m\u001b[0;34m[\u001b[0m\u001b[0;34m'data'\u001b[0m\u001b[0;34m]\u001b[0m\u001b[0;34m[\u001b[0m\u001b[0;34m:\u001b[0m\u001b[0;34m,\u001b[0m\u001b[0;34m:\u001b[0m\u001b[0;34m,\u001b[0m\u001b[0;34m:\u001b[0m\u001b[0;36m4\u001b[0m\u001b[0;34m]\u001b[0m\u001b[0;34m.\u001b[0m\u001b[0mastype\u001b[0m\u001b[0;34m(\u001b[0m\u001b[0mnp\u001b[0m\u001b[0;34m.\u001b[0m\u001b[0mfloat32\u001b[0m\u001b[0;34m)\u001b[0m\u001b[0;34m\u001b[0m\u001b[0m\n\u001b[1;32m     97\u001b[0m         \u001b[0mdata_num\u001b[0m \u001b[0;34m=\u001b[0m \u001b[0mdata_h5\u001b[0m\u001b[0;34m[\u001b[0m\u001b[0;34m'data_num'\u001b[0m\u001b[0;34m]\u001b[0m\u001b[0;34m[\u001b[0m\u001b[0;34m.\u001b[0m\u001b[0;34m.\u001b[0m\u001b[0;34m.\u001b[0m\u001b[0;34m]\u001b[0m\u001b[0;34m.\u001b[0m\u001b[0mastype\u001b[0m\u001b[0;34m(\u001b[0m\u001b[0mnp\u001b[0m\u001b[0;34m.\u001b[0m\u001b[0mint32\u001b[0m\u001b[0;34m)\u001b[0m\u001b[0;34m\u001b[0m\u001b[0m\n",
      "\u001b[0;32m/home/hasan/.local/lib/python2.7/site-packages/h5py/_hl/files.pyc\u001b[0m in \u001b[0;36m__init__\u001b[0;34m(self, name, mode, driver, libver, userblock_size, swmr, **kwds)\u001b[0m\n\u001b[1;32m    310\u001b[0m             \u001b[0;32mwith\u001b[0m \u001b[0mphil\u001b[0m\u001b[0;34m:\u001b[0m\u001b[0;34m\u001b[0m\u001b[0m\n\u001b[1;32m    311\u001b[0m                 \u001b[0mfapl\u001b[0m \u001b[0;34m=\u001b[0m \u001b[0mmake_fapl\u001b[0m\u001b[0;34m(\u001b[0m\u001b[0mdriver\u001b[0m\u001b[0;34m,\u001b[0m \u001b[0mlibver\u001b[0m\u001b[0;34m,\u001b[0m \u001b[0;34m**\u001b[0m\u001b[0mkwds\u001b[0m\u001b[0;34m)\u001b[0m\u001b[0;34m\u001b[0m\u001b[0m\n\u001b[0;32m--> 312\u001b[0;31m                 \u001b[0mfid\u001b[0m \u001b[0;34m=\u001b[0m \u001b[0mmake_fid\u001b[0m\u001b[0;34m(\u001b[0m\u001b[0mname\u001b[0m\u001b[0;34m,\u001b[0m \u001b[0mmode\u001b[0m\u001b[0;34m,\u001b[0m \u001b[0muserblock_size\u001b[0m\u001b[0;34m,\u001b[0m \u001b[0mfapl\u001b[0m\u001b[0;34m,\u001b[0m \u001b[0mswmr\u001b[0m\u001b[0;34m=\u001b[0m\u001b[0mswmr\u001b[0m\u001b[0;34m)\u001b[0m\u001b[0;34m\u001b[0m\u001b[0m\n\u001b[0m\u001b[1;32m    313\u001b[0m \u001b[0;34m\u001b[0m\u001b[0m\n\u001b[1;32m    314\u001b[0m                 \u001b[0;32mif\u001b[0m \u001b[0mswmr_support\u001b[0m\u001b[0;34m:\u001b[0m\u001b[0;34m\u001b[0m\u001b[0m\n",
      "\u001b[0;32m/home/hasan/.local/lib/python2.7/site-packages/h5py/_hl/files.pyc\u001b[0m in \u001b[0;36mmake_fid\u001b[0;34m(name, mode, userblock_size, fapl, fcpl, swmr)\u001b[0m\n\u001b[1;32m    165\u001b[0m                 \u001b[0mfid\u001b[0m \u001b[0;34m=\u001b[0m \u001b[0mh5f\u001b[0m\u001b[0;34m.\u001b[0m\u001b[0mopen\u001b[0m\u001b[0;34m(\u001b[0m\u001b[0mname\u001b[0m\u001b[0;34m,\u001b[0m \u001b[0mh5f\u001b[0m\u001b[0;34m.\u001b[0m\u001b[0mACC_RDONLY\u001b[0m\u001b[0;34m,\u001b[0m \u001b[0mfapl\u001b[0m\u001b[0;34m=\u001b[0m\u001b[0mfapl\u001b[0m\u001b[0;34m)\u001b[0m\u001b[0;34m\u001b[0m\u001b[0m\n\u001b[1;32m    166\u001b[0m             \u001b[0;32mexcept\u001b[0m \u001b[0mIOError\u001b[0m\u001b[0;34m:\u001b[0m\u001b[0;34m\u001b[0m\u001b[0m\n\u001b[0;32m--> 167\u001b[0;31m                 \u001b[0mfid\u001b[0m \u001b[0;34m=\u001b[0m \u001b[0mh5f\u001b[0m\u001b[0;34m.\u001b[0m\u001b[0mcreate\u001b[0m\u001b[0;34m(\u001b[0m\u001b[0mname\u001b[0m\u001b[0;34m,\u001b[0m \u001b[0mh5f\u001b[0m\u001b[0;34m.\u001b[0m\u001b[0mACC_EXCL\u001b[0m\u001b[0;34m,\u001b[0m \u001b[0mfapl\u001b[0m\u001b[0;34m=\u001b[0m\u001b[0mfapl\u001b[0m\u001b[0;34m,\u001b[0m \u001b[0mfcpl\u001b[0m\u001b[0;34m=\u001b[0m\u001b[0mfcpl\u001b[0m\u001b[0;34m)\u001b[0m\u001b[0;34m\u001b[0m\u001b[0m\n\u001b[0m\u001b[1;32m    168\u001b[0m     \u001b[0;32melse\u001b[0m\u001b[0;34m:\u001b[0m\u001b[0;34m\u001b[0m\u001b[0m\n\u001b[1;32m    169\u001b[0m         \u001b[0;32mraise\u001b[0m \u001b[0mValueError\u001b[0m\u001b[0;34m(\u001b[0m\u001b[0;34m\"Invalid mode; must be one of r, r+, w, w-, x, a\"\u001b[0m\u001b[0;34m)\u001b[0m\u001b[0;34m\u001b[0m\u001b[0m\n",
      "\u001b[0;32mh5py/_objects.pyx\u001b[0m in \u001b[0;36mh5py._objects.with_phil.wrapper\u001b[0;34m()\u001b[0m\n",
      "\u001b[0;32mh5py/_objects.pyx\u001b[0m in \u001b[0;36mh5py._objects.with_phil.wrapper\u001b[0;34m()\u001b[0m\n",
      "\u001b[0;32mh5py/h5f.pyx\u001b[0m in \u001b[0;36mh5py.h5f.create\u001b[0;34m()\u001b[0m\n",
      "\u001b[0;31mIOError\u001b[0m: Unable to create file (unable to open file: name = '/home/hasan/data/hdd8TB/KITTI/3D-object-detection//pointcnn-dataset/with-reflectance+merged-10000+non-normalized+block-100/./val/val_zero_3.h5', errno = 17, error message = 'File exists', flags = 15, o_flags = c2)"
     ]
    }
   ],
   "source": [
    "args = {\n",
    "        'load_ckpt' : __model,\n",
    "        'repeat_num' : 1,\n",
    "        'setting' : \"kitti3d_x8_2048_fps\",\n",
    "        'save_ply' : False,\n",
    "        'model' : \"pointcnn_seg\",\n",
    "        'max_point_num' : 10000,\n",
    "        'filelist' : __dataset\n",
    "}\n",
    "\n",
    "model = importlib.import_module(args['model'])\n",
    "setting_path = os.path.join(_file_loc+\"/PointCNN/\", args['model'])\n",
    "sys.path.append(setting_path)\n",
    "setting = importlib.import_module(args['setting'])\n",
    "\n",
    "sample_num = setting.sample_num\n",
    "max_point_num = args['max_point_num']\n",
    "batch_size = args['repeat_num'] * int(math.ceil(max_point_num / sample_num))\n",
    "\n",
    "######################################################################\n",
    "# Placeholders\n",
    "indices = tf.placeholder(tf.int32, shape=(batch_size, None, 2), name=\"indices\")\n",
    "is_training = tf.placeholder(tf.bool, name='is_training')\n",
    "pts_fts = tf.placeholder(tf.float32, shape=(batch_size, max_point_num, setting.data_dim), name='points')\n",
    "######################################################################\n",
    "\n",
    "######################################################################\n",
    "pts_fts_sampled = tf.gather_nd(pts_fts, indices=indices, name='pts_fts_sampled')\n",
    "if setting.data_dim > 3:\n",
    "    points_sampled, features_sampled = tf.split(pts_fts_sampled,\n",
    "                                                [3, setting.data_dim - 3],\n",
    "                                                axis=-1,\n",
    "                                                name='split_points_features')\n",
    "    if not setting.use_extra_features:\n",
    "        features_sampled = None\n",
    "else:\n",
    "    points_sampled = pts_fts_sampled\n",
    "    features_sampled = None\n",
    "\n",
    "net = model.Net(points_sampled, features_sampled, is_training, setting)\n",
    "seg_probs_op = tf.nn.softmax(net.logits, name='seg_probs')\n",
    "\n",
    "points_augmented = points_sampled\n",
    "features_augmented = features_sampled\n",
    "\n",
    "\n",
    "with tf.variable_scope('xcrf_ker_weights'):\n",
    "\n",
    "    _, point_indices = pf.knn_indices_general(points_augmented, points_augmented, 1024, True)\n",
    "\n",
    "\n",
    "    xcrf = learningBlock(num_points=sample_num,\n",
    "                     num_classes=setting.num_class,\n",
    "                     theta_alpha=float(5),\n",
    "                     theta_beta=float(2),\n",
    "                     theta_gamma=float(1),\n",
    "                     num_iterations=5,\n",
    "                     name='xcrf',\n",
    "                     point_indices=point_indices\n",
    "                     )\n",
    "\n",
    "    _logits1 = xcrf.call(net.logits, points_augmented, features_augmented, setting.data_dim)\n",
    "    _logits2 = xcrf.call(net.logits, points_augmented, features_augmented, setting.data_dim, D=2)\n",
    "    _logits3 = xcrf.call(net.logits, points_augmented, features_augmented, setting.data_dim, D=3)\n",
    "    _logits4 = xcrf.call(net.logits, points_augmented, features_augmented, setting.data_dim, D=4)\n",
    "    _logits5 = xcrf.call(net.logits, points_augmented, features_augmented, setting.data_dim, D=8)\n",
    "    _logits6 = xcrf.call(net.logits, points_augmented, features_augmented, setting.data_dim, D=16)\n",
    "\n",
    "    logits = _logits1 + _logits2 + _logits3+ _logits4 + _logits5 + _logits6\n",
    "    \n",
    "    \n",
    "    probs = tf.nn.softmax(logits, name='prob')\n",
    "    predictions = tf.argmax(probs, axis=-1, name='predictions')\n",
    "\n",
    "\n",
    "\n",
    "# for restore model\n",
    "saver = tf.train.Saver()\n",
    "\n",
    "parameter_num = np.sum([np.prod(v.shape.as_list()) for v in tf.trainable_variables()])\n",
    "print('{}-Parameter number: {:d}.'.format(datetime.now(), parameter_num))\n",
    "\n",
    "\n",
    "with tf.Session() as sess:\n",
    "    # Load the model\n",
    "    saver.restore(sess, args['load_ckpt'])\n",
    "    print('{}-Checkpoint loaded from {}!'.format(datetime.now(), args['load_ckpt']))\n",
    "\n",
    "    indices_batch_indices = np.tile(np.reshape(np.arange(batch_size), (batch_size, 1, 1)), (1, sample_num, 1))\n",
    "\n",
    "    folder = os.path.dirname(args['filelist'])\n",
    "    filenames = [os.path.join(folder, line.strip()) for line in open(args['filelist'])]\n",
    "    for filename in filenames:\n",
    "        print('{}-Reading {}...'.format(datetime.now(), filename))\n",
    "        data_h5 = h5py.File(filename)\n",
    "        data = data_h5['data'][:,:,:4].astype(np.float32)\n",
    "        data_num = data_h5['data_num'][...].astype(np.int32)\n",
    "        batch_num = data.shape[0]\n",
    "\n",
    "        labels_pred = np.full((batch_num, max_point_num), -1, dtype=np.int32)\n",
    "        confidences_pred = np.zeros((batch_num, max_point_num), dtype=np.float32)\n",
    "\n",
    "        #print('{}-{:d} testing batches.'.format(datetime.now(), batch_num))\n",
    "        for batch_idx in tqdm(range(batch_num)):\n",
    "            #if batch_idx % 10 == 0:\n",
    "            #print('{}-Processing {} of {} batches.'.format(datetime.now(), batch_idx, batch_num))\n",
    "            points_batch = data[[batch_idx] * batch_size, ...]\n",
    "            point_num = data_num[batch_idx]\n",
    "            if(point_num <= 10):\n",
    "                continue \n",
    "\n",
    "            tile_num = int(math.ceil((sample_num * batch_size) / point_num))\n",
    "            indices_shuffle = np.tile(np.arange(point_num), tile_num)[0:sample_num * batch_size]\n",
    "            np.random.shuffle(indices_shuffle)\n",
    "            indices_batch_shuffle = np.reshape(indices_shuffle, (batch_size, sample_num, 1))\n",
    "            indices_batch = np.concatenate((indices_batch_indices, indices_batch_shuffle), axis=2)\n",
    "\n",
    "            seg_probs = sess.run([seg_probs_op],\n",
    "                                    feed_dict={\n",
    "                                        pts_fts: points_batch,\n",
    "                                        indices: indices_batch,\n",
    "                                        is_training: False,\n",
    "                                    })\n",
    "            probs_2d = np.reshape(seg_probs, (sample_num * batch_size, -1))\n",
    "\n",
    "            predictions = [(-1, 0.0)] * point_num\n",
    "            for idx in range(sample_num * batch_size):\n",
    "                point_idx = indices_shuffle[idx]\n",
    "                probs = probs_2d[idx, :]\n",
    "                confidence = np.amax(probs)\n",
    "                label = np.argmax(probs)\n",
    "                if confidence > predictions[point_idx][1]:\n",
    "                    predictions[point_idx] = [label, confidence]\n",
    "            labels_pred[batch_idx, 0:point_num] = np.array([label for label, _ in predictions])\n",
    "            confidences_pred[batch_idx, 0:point_num] = np.array([confidence for _, confidence in predictions])\n",
    "\n",
    "        filename_pred = filename[:-3] + __predicate+ '_pred.h5'\n",
    "        print('{}-Saving {}...'.format(datetime.now(), filename_pred))\n",
    "        file = h5py.File(filename_pred, 'w')\n",
    "        file.create_dataset('data_num', data=data_num)\n",
    "        file.create_dataset('label_seg', data=labels_pred)\n",
    "        file.create_dataset('confidence', data=confidences_pred)\n",
    "        has_indices = 'indices_split_to_full' in data_h5\n",
    "        if has_indices:\n",
    "            file.create_dataset('indices_split_to_full', data=data_h5['indices_split_to_full'][...])\n",
    "        file.close()\n",
    "\n",
    "        if args['save_ply']:\n",
    "            print('{}-Saving ply of {}...'.format(datetime.now(), filename_pred))\n",
    "            filepath_label_ply = os.path.join(filename_pred[:-3] + 'ply_label')\n",
    "            data_utils.save_ply_property_batch(data[:, :, 0:3], labels_pred[...],\n",
    "                                               filepath_label_ply, data_num[...], setting.num_class)\n",
    "        ######################################################################\n",
    "    print('{}-Done!'.format(datetime.now()))\n"
   ]
  },
  {
   "cell_type": "code",
   "execution_count": null,
   "metadata": {},
   "outputs": [],
   "source": [
    "\n",
    "pred_list = [pred for pred in os.listdir(pred_path) if pred.split(\".\")[-1] == \"h5\" and __predicate in pred]"
   ]
  },
  {
   "cell_type": "code",
   "execution_count": null,
   "metadata": {},
   "outputs": [],
   "source": [
    "pred_list\n",
    "\n",
    "_result_preds = {}\n",
    "\n",
    "for i in testlists:\n",
    "    _result_preds[i] = [[],[]] #[[]Zero, []Half, FrameID]\n",
    "    \n",
    "for _file in tqdm(pred_list):\n",
    "\n",
    "    \n",
    "    origin_filename =  _file.replace(__predicate+ '_pred.h5', \".h5\")\n",
    "    #print(os.path.join(pred_path, origin_filename))\n",
    "    input_data = h5py.File(os.path.join(pred_path, origin_filename))\n",
    "    label = input_data['label'][...].astype(np.int32)\n",
    "    \n",
    "    frameids = np.unique(label)\n",
    "    \n",
    "    data = h5py.File(os.path.join(pred_path, _file))\n",
    "    labels_seg = data['label_seg'][...].astype(np.int64)\n",
    "    indices = data['indices_split_to_full'][...].astype(np.int64)\n",
    "    confidence = data['confidence'][...].astype(np.float32)\n",
    "    data_num = data['data_num'][...].astype(np.int64)\n",
    "    \n",
    "    for frame_id in (frameids):\n",
    "        labels_seg_frame = []\n",
    "        confidence_frame = []\n",
    "        idx_frame = []\n",
    "        ptnum_frame = []\n",
    "        indices_frame = np.nonzero(label==frame_id)\n",
    "        for i in  indices_frame[0]:\n",
    "\n",
    "            ptnum_frame.append(data_num[i])\n",
    "            idx_frame.append(indices[i,:data_num[i]])\n",
    "            labels_seg_frame.append(labels_seg[i,:data_num[i]])\n",
    "            confidence_frame.append(confidence[i,:data_num[i]])\n",
    "            \n",
    "        idx_frame = np.concatenate(idx_frame)\n",
    "        labels_seg_frame = np.concatenate(labels_seg_frame)\n",
    "        labels_seg_frame = labels_seg_frame.astype(int)\n",
    "        confidence_frame = np.concatenate(confidence_frame)\n",
    "        \n",
    "        is_half = 1 if \"_half_\" in origin_filename else 0\n",
    "        \n",
    "        _result_preds[frame_id][is_half] = [labels_seg_frame, confidence_frame, ptnum_frame, idx_frame]\n",
    "        \n",
    "    "
   ]
  },
  {
   "cell_type": "code",
   "execution_count": null,
   "metadata": {},
   "outputs": [],
   "source": [
    "\n",
    "final_label = {}\n",
    "\n",
    "for _i in tqdm(testlists):\n",
    "    \n",
    "    if len(_result_preds[_i][0][3]) == 0 or len(_result_preds[_i][1][3]) == 0 :\n",
    "        print(\"NO DATA\", _i)\n",
    "        continue\n",
    "        \n",
    "    label_length = max(max(_result_preds[_i][0][3]), max(_result_preds[_i][1][3]) )+1\n",
    "\n",
    "    merged_label_zero = np.zeros((label_length),dtype=int)\n",
    "    merged_confidence_zero = np.zeros((label_length),dtype=float)\n",
    "    merged_label_half = np.zeros((label_length), dtype=int)\n",
    "    merged_confidence_half = np.zeros((label_length), dtype=float)\n",
    "\n",
    "\n",
    "    final_label[_i] =  np.zeros((label_length), dtype=int) #[[]Zero, []Half, FrameID]\n",
    "    \n",
    "    is_zero = True \n",
    "    for pred_data in _result_preds[_i]:\n",
    "    \n",
    "        labels_seg = pred_data[0].astype(np.int64)\n",
    "        indices = pred_data[3].astype(np.int64)\n",
    "        confidence = pred_data[1].astype(np.float32)\n",
    "        data_num = np.array(pred_data[2]).astype(np.int64)\n",
    "\n",
    "        if is_zero:\n",
    "            for i in range(labels_seg.shape[0]):\n",
    "                \n",
    "                 if confidence[i] > merged_confidence_zero[indices[i]]:\n",
    "                    merged_confidence_zero[indices[i]] = confidence[i]\n",
    "                    merged_label_zero[indices[i]] = labels_seg[i]\n",
    "                                \n",
    "        else:\n",
    "            for i in range(labels_seg.shape[0]):\n",
    "                 if confidence[i] > merged_confidence_half[indices[i]]:\n",
    "                    merged_confidence_half[indices[i]] = confidence[i]\n",
    "                    merged_label_half[indices[i]] = labels_seg[i]\n",
    "                \n",
    "        is_zero = False\n",
    "\n",
    "    final_label[_i][merged_confidence_zero >= merged_confidence_half] = merged_label_zero[merged_confidence_zero >= merged_confidence_half]\n",
    "    final_label[_i][merged_confidence_zero < merged_confidence_half] = merged_label_half[merged_confidence_zero < merged_confidence_half]"
   ]
  },
  {
   "cell_type": "code",
   "execution_count": null,
   "metadata": {},
   "outputs": [],
   "source": [
    "np.savez(__dataset_final_result + __predicate +\"-final-pred.npz\", final_label)"
   ]
  },
  {
   "cell_type": "code",
   "execution_count": null,
   "metadata": {},
   "outputs": [],
   "source": [
    "__dataset_final_result + __predicate +\"-final-pred.npz\""
   ]
  },
  {
   "cell_type": "code",
   "execution_count": null,
   "metadata": {},
   "outputs": [],
   "source": []
  }
 ],
 "metadata": {
  "kernelspec": {
   "display_name": "Python 2",
   "language": "python",
   "name": "python2"
  },
  "language_info": {
   "codemirror_mode": {
    "name": "ipython",
    "version": 2
   },
   "file_extension": ".py",
   "mimetype": "text/x-python",
   "name": "python",
   "nbconvert_exporter": "python",
   "pygments_lexer": "ipython2",
   "version": "2.7.15"
  }
 },
 "nbformat": 4,
 "nbformat_minor": 2
}
