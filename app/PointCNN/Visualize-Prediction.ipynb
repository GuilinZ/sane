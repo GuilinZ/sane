{
 "cells": [
  {
   "cell_type": "code",
   "execution_count": null,
   "metadata": {},
   "outputs": [],
   "source": [
    "%matplotlib notebook\n",
    "#%matplotlib inline\n",
    "from __future__ import absolute_import\n",
    "from __future__ import division\n",
    "from __future__ import print_function\n",
    "\n",
    "import os\n",
    "import sys\n",
    "import math\n",
    "import h5py\n",
    "import argparse\n",
    "import importlib\n",
    "import data_utils\n",
    "import numpy as np\n",
    "import tensorflow as tf\n",
    "from datetime import datetime\n"
   ]
  },
  {
   "cell_type": "code",
   "execution_count": null,
   "metadata": {},
   "outputs": [],
   "source": [
    "\n",
    "import matplotlib.pyplot as plt\n",
    "from mpl_toolkits.mplot3d import Axes3D\n",
    "import matplotlib.animation\n",
    "import mayavi.mlab as mlab\n",
    "import scipy.spatial as spatial\n",
    "from mpl_toolkits.mplot3d.art3d import Poly3DCollection, Line3DCollection\n",
    "\n",
    "from matplotlib import animation\n",
    "\n",
    "import numpy as np"
   ]
  },
  {
   "cell_type": "code",
   "execution_count": null,
   "metadata": {},
   "outputs": [],
   "source": [
    "point_size=0.2\n",
    "axes_str = [\"X\", \"Y\", \"Z\"]\n",
    "\n",
    "color_map = [\"#CFCDC9\", \"b\",\"r\",\"g\"]\n",
    "axes_limits = [\n",
    "     [-100, 80], # X axis range\n",
    "     [-10, 10], # Y axis range\n",
    "     [-3, 10]   # Z axis range\n",
    " ] \n",
    "\n",
    "def draw_box(pyplot_axis, vertices, axes=[0, 1, 2], color='black'):\n",
    "\n",
    "    \n",
    "    connections = [\n",
    "        [0, 1], [1, 2], [2, 3], [3, 0],  # Lower plane parallel to Z=0 plane\n",
    "        [4, 5], [5, 6], [6, 7], [7, 4],  # Upper plane parallel to Z=0 plane\n",
    "        [0, 4], [1, 5], [2, 6], [3, 7]  # Connections between upper and lower planes\n",
    "    ]\n",
    "    for connection in connections:\n",
    "        plt.plot(vertices[ connection[0], :],vertices[ connection[1], :], c=color, lw=0.5)\n",
    "\n",
    "        \n",
    "def draw_point_cloud(ax, title, axes=[0, 1, 2], xlim3d=None, ylim3d=None, zlim3d=None):\n",
    "    \n",
    "    class_color =  [color_map[int(i)] for i in velo_frame[:, 3]] \n",
    "    point_sizes =  [ 0.01 if i < 1 else point_size for i in velo_frame[:, 3]] \n",
    "\n",
    "    ax.scatter(*np.transpose(velo_frame[:, axes]), s=point_sizes, c=class_color, cmap='gray')\n",
    "    ax.set_title(title)\n",
    "    ax.set_xlabel('{} axis'.format(axes_str[axes[0]]))\n",
    "    ax.set_ylabel('{} axis'.format(axes_str[axes[1]]))\n",
    "   \n",
    "    if len(axes) > 2:\n",
    "        ax.set_xlim3d(*axes_limits[axes[0]])\n",
    "        ax.set_ylim3d(*axes_limits[axes[1]])\n",
    "        ax.set_zlim3d(*axes_limits[axes[2]])\n",
    "        ax.set_zlabel('{} axis'.format(axes_str[axes[2]]))\n",
    "    else:\n",
    "        ax.set_xlim(*axes_limits[axes[0]])\n",
    "        ax.set_ylim(*axes_limits[axes[1]])\n",
    "    if xlim3d!=None:\n",
    "        ax.set_xlim3d(xlim3d)\n",
    "    if ylim3d!=None:\n",
    "        ax.set_ylim3d(ylim3d)\n",
    "    if zlim3d!=None:\n",
    "        ax.set_zlim3d(zlim3d)\n",
    "\n",
    "\n",
    "\n"
   ]
  },
  {
   "cell_type": "code",
   "execution_count": null,
   "metadata": {},
   "outputs": [],
   "source": [
    "filelist = \"/data/dataset/merged-10000+non-normalized+block-25/./val/val_half_1_pred.h5\"\n",
    "data = h5py.File(filelist)\n",
    "data_train = data['data_num'][:,:,:].astype(np.float32)\n",
    "\n",
    "confidence = data['confidence'][...].astype(np.int64)\n",
    "label_train = data['label_seg'][...].astype(np.int64)\n",
    "\n"
   ]
  },
  {
   "cell_type": "code",
   "execution_count": null,
   "metadata": {},
   "outputs": [],
   "source": [
    "filelist = \"../pointcnn-dataset/with-reflectance+merged-10000+non-normalized+block-100/val/val_zero_3.h5\"\n",
    "data = h5py.File(filelist)\n",
    "data_train = data['data'][:,:,:].astype(np.float32)\n",
    "\n",
    "label = data['label'][...].astype(np.int64)\n",
    "label_train = data['label_seg'][...].astype(np.int64)\n",
    "data_num_train = data['data_num'][...].astype(np.int32)\n",
    "print(data_num_train.shape, label[:19])"
   ]
  },
  {
   "cell_type": "code",
   "execution_count": null,
   "metadata": {},
   "outputs": [],
   "source": [
    "##Check duplicate rate\n",
    "velo_frame = np.concatenate(data_train[:19])\n",
    "labels = np.concatenate(label_train[:19])\n"
   ]
  },
  {
   "cell_type": "code",
   "execution_count": null,
   "metadata": {},
   "outputs": [],
   "source": [
    "data_train[1].shape"
   ]
  },
  {
   "cell_type": "code",
   "execution_count": null,
   "metadata": {},
   "outputs": [],
   "source": [
    "indices_frame = np.nonzero(data_train[:20,:,-1]==2345)"
   ]
  },
  {
   "cell_type": "code",
   "execution_count": null,
   "metadata": {},
   "outputs": [],
   "source": [
    "data_train[indices_frame].shape"
   ]
  },
  {
   "cell_type": "code",
   "execution_count": null,
   "metadata": {},
   "outputs": [],
   "source": [
    "labels[:20][indices_frame]"
   ]
  },
  {
   "cell_type": "code",
   "execution_count": null,
   "metadata": {},
   "outputs": [],
   "source": [
    "np.unique(data_train[indices_frame[0]], return_counts=True)"
   ]
  },
  {
   "cell_type": "code",
   "execution_count": null,
   "metadata": {},
   "outputs": [],
   "source": [
    "id_frame =6\n",
    "#labels, velo_frame = label_train[id_frame, :data_num_train[id_frame]], data_train[id_frame, :data_num_train[id_frame],:]\n",
    "labels = np.expand_dims(labels[indices_frame], axis=1)\n",
    "print(velo_frame.shape, labels.shape)\n",
    "pointSize = velo_frame.shape[0]\n",
    "# X, Y, Z, Class, Object_id\n",
    "velo_frame = np.concatenate( (velo_frame[:,0:1],velo_frame[:,2:3], velo_frame[:,1:2],labels , velo_frame[:,3:4]) , axis=1)\n",
    "obj_id = 1\n",
    "\n",
    "velo_frame = velo_frame[ np.logical_and(velo_frame[:,3] >= 1, velo_frame[:,0] >= -100)  ] #load_data#[ load_data[:,3] >= 1 ] #np.logical_and(load_data[:,3] >= 1,  load_data[:,-1]==30) ]\n",
    "#velo_frame = np.append(velo_frame, [np.amax(velo_frame, axis=0), np.amin(velo_frame, axis=0)], axis=0)\n",
    "\n",
    "print(np.amax(velo_frame, axis=0))\n",
    "print(np.amin(velo_frame, axis=0))\n",
    "f2 = plt.figure(figsize=(10,4))\n",
    "axes=[0, 1, 2]\n",
    "ax2 = f2.add_subplot(111, projection='3d')   \n",
    "order_ids = np.arange(8)\n",
    "draw_point_cloud(ax2, 'Velodyne scan', xlim3d=None)\n",
    "plt.show()"
   ]
  },
  {
   "cell_type": "code",
   "execution_count": null,
   "metadata": {},
   "outputs": [],
   "source": []
  }
 ],
 "metadata": {
  "kernelspec": {
   "display_name": "Python 2",
   "language": "python",
   "name": "python2"
  },
  "language_info": {
   "codemirror_mode": {
    "name": "ipython",
    "version": 2
   },
   "file_extension": ".py",
   "mimetype": "text/x-python",
   "name": "python",
   "nbconvert_exporter": "python",
   "pygments_lexer": "ipython2",
   "version": "2.7.15"
  }
 },
 "nbformat": 4,
 "nbformat_minor": 2
}
