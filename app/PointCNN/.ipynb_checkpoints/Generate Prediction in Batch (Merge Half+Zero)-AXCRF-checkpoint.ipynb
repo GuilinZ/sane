{
 "cells": [
  {
   "cell_type": "code",
   "execution_count": 1,
   "metadata": {},
   "outputs": [],
   "source": [
    "#!/usr/bin/python3\n",
    "\"\"\"Testing On Segmentation Task.\"\"\"\n",
    "\n",
    "from __future__ import absolute_import\n",
    "from __future__ import division\n",
    "from __future__ import print_function\n",
    "\n",
    "import os\n",
    "\n",
    "os.environ[\"CUDA_DEVICE_ORDER\"]=\"PCI_BUS_ID\"\n",
    "os.environ[\"CUDA_VISIBLE_DEVICES\"] = str(1)\n",
    "import sys\n",
    "import math\n",
    "import h5py\n",
    "import argparse\n",
    "import importlib\n",
    "import data_utils\n",
    "import numpy as np\n",
    "import tensorflow as tf\n",
    "from datetime import datetime\n",
    "from tqdm import tqdm\n",
    "import pykitti\n",
    "\n",
    "import pointfly as pf\n",
    "\n",
    "from xcrf_layer import learningBlock"
   ]
  },
  {
   "cell_type": "code",
   "execution_count": 2,
   "metadata": {},
   "outputs": [],
   "source": [
    "__predicate = \"block-100\"\n",
    "_file_loc  = \"/home/hasan/data/hdd8TB/KITTI/3D-object-detection/\"\n",
    "_file_loc_raw_data  = _file_loc + \"/dataset\"\n",
    "__dataset = _file_loc+\"/pointcnn-dataset/with-reflectance+merged-10000+non-normalized+\"+__predicate+\"/val_files.txt\"\n",
    "__dataset_final_result = _file_loc+\"/pointcnn-dataset/with-reflectance+merged-10000+non-normalized+\"+__predicate+\"/val/A-XCRF\"\n",
    "__model = _file_loc+\"/pointcnn-model/A-XCRF+with-reflectance+merged-10000+non-normalized+\"+__predicate+\"/pointcnn_seg_kitti3d_x8_2048_fps_2019-04-02-23-22-45_8763/ckpt-best/0.9191338-iter--190000\"\n",
    "\n",
    "pred_path = _file_loc+\"/pointcnn-dataset/with-reflectance+merged-10000+non-normalized+\"+__predicate+\"/val\"\n"
   ]
  },
  {
   "cell_type": "code",
   "execution_count": 3,
   "metadata": {},
   "outputs": [],
   "source": [
    "\n",
    "_traindata = _file_loc + \"dataset/training/val.txt\"\n",
    "_traindatacontent = open(_traindata, \"r\")\n",
    "testlists = _traindatacontent.readlines()\n",
    "testlists = [int(_d) for _d in testlists]"
   ]
  },
  {
   "cell_type": "code",
   "execution_count": null,
   "metadata": {},
   "outputs": [],
   "source": []
  },
  {
   "cell_type": "code",
   "execution_count": 4,
   "metadata": {
    "scrolled": false
   },
   "outputs": [
    {
     "name": "stdout",
     "output_type": "stream",
     "text": [
      "WARNING:tensorflow:From pointfly.py:193: calling reduce_sum (from tensorflow.python.ops.math_ops) with keep_dims is deprecated and will be removed in a future version.\n",
      "Instructions for updating:\n",
      "keep_dims is deprecated, use keepdims instead\n",
      "2019-04-04 18:29:02.215519-Parameter number: 11510396.\n",
      "INFO:tensorflow:Restoring parameters from /home/hasan/data/hdd8TB/KITTI/3D-object-detection//pointcnn-model/A-XCRF+with-reflectance+merged-10000+non-normalized+block-200/pointcnn_seg_kitti3d_x8_2048_fps_2019-04-02-18-24-49_29147/ckpt-best/0.929311-iter--200000\n",
      "2019-04-04 18:29:04.161802-Checkpoint loaded from /home/hasan/data/hdd8TB/KITTI/3D-object-detection//pointcnn-model/A-XCRF+with-reflectance+merged-10000+non-normalized+block-200/pointcnn_seg_kitti3d_x8_2048_fps_2019-04-02-18-24-49_29147/ckpt-best/0.929311-iter--200000!\n",
      "2019-04-04 18:29:04.163009-Reading /home/hasan/data/hdd8TB/KITTI/3D-object-detection//pointcnn-dataset/with-reflectance+merged-10000+non-normalized+block-200/./val/val_half_0.h5...\n"
     ]
    },
    {
     "name": "stderr",
     "output_type": "stream",
     "text": [
      "100%|██████████| 10240/10240 [40:19<00:00,  4.04it/s]\n"
     ]
    },
    {
     "name": "stdout",
     "output_type": "stream",
     "text": [
      "2019-04-04 19:09:32.683393-Saving /home/hasan/data/hdd8TB/KITTI/3D-object-detection//pointcnn-dataset/with-reflectance+merged-10000+non-normalized+block-200/./val/val_half_0block-200_pred.h5...\n",
      "2019-04-04 19:09:47.082100-Reading /home/hasan/data/hdd8TB/KITTI/3D-object-detection//pointcnn-dataset/with-reflectance+merged-10000+non-normalized+block-200/./val/val_half_1.h5...\n"
     ]
    },
    {
     "name": "stderr",
     "output_type": "stream",
     "text": [
      "100%|██████████| 10240/10240 [39:50<00:00,  4.41it/s]\n"
     ]
    },
    {
     "name": "stdout",
     "output_type": "stream",
     "text": [
      "2019-04-04 19:50:30.914451-Saving /home/hasan/data/hdd8TB/KITTI/3D-object-detection//pointcnn-dataset/with-reflectance+merged-10000+non-normalized+block-200/./val/val_half_1block-200_pred.h5...\n",
      "2019-04-04 19:50:45.793486-Reading /home/hasan/data/hdd8TB/KITTI/3D-object-detection//pointcnn-dataset/with-reflectance+merged-10000+non-normalized+block-200/./val/val_half_2.h5...\n"
     ]
    },
    {
     "name": "stderr",
     "output_type": "stream",
     "text": [
      "100%|██████████| 10240/10240 [39:51<00:00,  4.39it/s]\n"
     ]
    },
    {
     "name": "stdout",
     "output_type": "stream",
     "text": [
      "2019-04-04 20:31:25.990184-Saving /home/hasan/data/hdd8TB/KITTI/3D-object-detection//pointcnn-dataset/with-reflectance+merged-10000+non-normalized+block-200/./val/val_half_2block-200_pred.h5...\n",
      "2019-04-04 20:31:37.622015-Reading /home/hasan/data/hdd8TB/KITTI/3D-object-detection//pointcnn-dataset/with-reflectance+merged-10000+non-normalized+block-200/./val/val_half_3.h5...\n"
     ]
    },
    {
     "name": "stderr",
     "output_type": "stream",
     "text": [
      "100%|██████████| 4054/4054 [15:46<00:00,  4.22it/s]\n"
     ]
    },
    {
     "name": "stdout",
     "output_type": "stream",
     "text": [
      "2019-04-04 20:47:26.775972-Saving /home/hasan/data/hdd8TB/KITTI/3D-object-detection//pointcnn-dataset/with-reflectance+merged-10000+non-normalized+block-200/./val/val_half_3block-200_pred.h5...\n",
      "2019-04-04 20:47:31.533113-Reading /home/hasan/data/hdd8TB/KITTI/3D-object-detection//pointcnn-dataset/with-reflectance+merged-10000+non-normalized+block-200/./val/val_zero_0.h5...\n"
     ]
    },
    {
     "name": "stderr",
     "output_type": "stream",
     "text": [
      "100%|██████████| 10240/10240 [39:52<00:00,  4.04it/s]\n"
     ]
    },
    {
     "name": "stdout",
     "output_type": "stream",
     "text": [
      "2019-04-04 21:27:53.091173-Saving /home/hasan/data/hdd8TB/KITTI/3D-object-detection//pointcnn-dataset/with-reflectance+merged-10000+non-normalized+block-200/./val/val_zero_0block-200_pred.h5...\n",
      "2019-04-04 21:28:07.263774-Reading /home/hasan/data/hdd8TB/KITTI/3D-object-detection//pointcnn-dataset/with-reflectance+merged-10000+non-normalized+block-200/./val/val_zero_1.h5...\n"
     ]
    },
    {
     "name": "stderr",
     "output_type": "stream",
     "text": [
      "100%|██████████| 10240/10240 [39:52<00:00,  4.17it/s]\n"
     ]
    },
    {
     "name": "stdout",
     "output_type": "stream",
     "text": [
      "2019-04-04 22:08:49.564908-Saving /home/hasan/data/hdd8TB/KITTI/3D-object-detection//pointcnn-dataset/with-reflectance+merged-10000+non-normalized+block-200/./val/val_zero_1block-200_pred.h5...\n",
      "2019-04-04 22:09:10.546500-Reading /home/hasan/data/hdd8TB/KITTI/3D-object-detection//pointcnn-dataset/with-reflectance+merged-10000+non-normalized+block-200/./val/val_zero_2.h5...\n"
     ]
    },
    {
     "name": "stderr",
     "output_type": "stream",
     "text": [
      "100%|██████████| 10240/10240 [39:57<00:00,  4.24it/s]\n"
     ]
    },
    {
     "name": "stdout",
     "output_type": "stream",
     "text": [
      "2019-04-04 22:49:49.041320-Saving /home/hasan/data/hdd8TB/KITTI/3D-object-detection//pointcnn-dataset/with-reflectance+merged-10000+non-normalized+block-200/./val/val_zero_2block-200_pred.h5...\n",
      "2019-04-04 22:50:03.821907-Reading /home/hasan/data/hdd8TB/KITTI/3D-object-detection//pointcnn-dataset/with-reflectance+merged-10000+non-normalized+block-200/./val/val_zero_3.h5..."
     ]
    },
    {
     "name": "stderr",
     "output_type": "stream",
     "text": [
      "100%|██████████| 3982/3982 [15:27<00:00,  4.52it/s]\n"
     ]
    },
    {
     "name": "stdout",
     "output_type": "stream",
     "text": [
      "\n",
      "2019-04-04 23:05:47.444949-Saving /home/hasan/data/hdd8TB/KITTI/3D-object-detection//pointcnn-dataset/with-reflectance+merged-10000+non-normalized+block-200/./val/val_zero_3block-200_pred.h5...\n",
      "2019-04-04 23:05:52.802085-Done!\n"
     ]
    }
   ],
   "source": [
    "args = {\n",
    "        'load_ckpt' : __model,\n",
    "        'repeat_num' : 1,\n",
    "        'setting' : \"kitti3d_x8_2048_fps\",\n",
    "        'save_ply' : False,\n",
    "        'model' : \"pointcnn_seg\",\n",
    "        'max_point_num' : 10000,\n",
    "        'filelist' : __dataset\n",
    "}\n",
    "\n",
    "model = importlib.import_module(args['model'])\n",
    "setting_path = os.path.join(_file_loc+\"/PointCNN/\", args['model'])\n",
    "sys.path.append(setting_path)\n",
    "setting = importlib.import_module(args['setting'])\n",
    "\n",
    "sample_num = setting.sample_num\n",
    "max_point_num = args['max_point_num']\n",
    "batch_size = args['repeat_num'] * int(math.ceil(max_point_num / sample_num))\n",
    "\n",
    "######################################################################\n",
    "# Placeholders\n",
    "indices = tf.placeholder(tf.int32, shape=(batch_size, None, 2), name=\"indices\")\n",
    "is_training = tf.placeholder(tf.bool, name='is_training')\n",
    "pts_fts = tf.placeholder(tf.float32, shape=(batch_size, max_point_num, setting.data_dim), name='points')\n",
    "######################################################################\n",
    "\n",
    "######################################################################\n",
    "pts_fts_sampled = tf.gather_nd(pts_fts, indices=indices, name='pts_fts_sampled')\n",
    "if setting.data_dim > 3:\n",
    "    points_sampled, features_sampled = tf.split(pts_fts_sampled,\n",
    "                                                [3, setting.data_dim - 3],\n",
    "                                                axis=-1,\n",
    "                                                name='split_points_features')\n",
    "    if not setting.use_extra_features:\n",
    "        features_sampled = None\n",
    "else:\n",
    "    points_sampled = pts_fts_sampled\n",
    "    features_sampled = None\n",
    "\n",
    "net = model.Net(points_sampled, features_sampled, is_training, setting)\n",
    "seg_probs_op = tf.nn.softmax(net.logits, name='seg_probs')\n",
    "\n",
    "points_augmented = points_sampled\n",
    "features_augmented = features_sampled\n",
    "\n",
    "\n",
    "with tf.variable_scope('xcrf_ker_weights'):\n",
    "\n",
    "    _, point_indices = pf.knn_indices_general(points_augmented, points_augmented, 1024, True)\n",
    "\n",
    "\n",
    "    xcrf = learningBlock(num_points=sample_num,\n",
    "                     num_classes=setting.num_class,\n",
    "                     theta_alpha=float(5),\n",
    "                     theta_beta=float(2),\n",
    "                     theta_gamma=float(1),\n",
    "                     num_iterations=5,\n",
    "                     name='xcrf',\n",
    "                     point_indices=point_indices\n",
    "                     )\n",
    "\n",
    "    _logits1 = xcrf.call(net.logits, points_augmented, features_augmented, setting.data_dim)\n",
    "    _logits2 = xcrf.call(net.logits, points_augmented, features_augmented, setting.data_dim, D=2)\n",
    "    _logits3 = xcrf.call(net.logits, points_augmented, features_augmented, setting.data_dim, D=3)\n",
    "    _logits4 = xcrf.call(net.logits, points_augmented, features_augmented, setting.data_dim, D=4)\n",
    "    _logits5 = xcrf.call(net.logits, points_augmented, features_augmented, setting.data_dim, D=8)\n",
    "    _logits6 = xcrf.call(net.logits, points_augmented, features_augmented, setting.data_dim, D=16)\n",
    "\n",
    "    logits = _logits1 + _logits2 + _logits3+ _logits4 + _logits5 + _logits6\n",
    "    \n",
    "    \n",
    "    probs = tf.nn.softmax(logits, name='prob')\n",
    "    predictions = tf.argmax(probs, axis=-1, name='predictions')\n",
    "\n",
    "\n",
    "\n",
    "# for restore model\n",
    "saver = tf.train.Saver()\n",
    "\n",
    "parameter_num = np.sum([np.prod(v.shape.as_list()) for v in tf.trainable_variables()])\n",
    "print('{}-Parameter number: {:d}.'.format(datetime.now(), parameter_num))\n",
    "\n",
    "\n",
    "with tf.Session() as sess:\n",
    "    # Load the model\n",
    "    saver.restore(sess, args['load_ckpt'])\n",
    "    print('{}-Checkpoint loaded from {}!'.format(datetime.now(), args['load_ckpt']))\n",
    "\n",
    "    indices_batch_indices = np.tile(np.reshape(np.arange(batch_size), (batch_size, 1, 1)), (1, sample_num, 1))\n",
    "\n",
    "    folder = os.path.dirname(args['filelist'])\n",
    "    filenames = [os.path.join(folder, line.strip()) for line in open(args['filelist'])]\n",
    "    for filename in filenames:\n",
    "        print('{}-Reading {}...'.format(datetime.now(), filename))\n",
    "        data_h5 = h5py.File(filename)\n",
    "        data = data_h5['data'][:,:,:4].astype(np.float32)\n",
    "        data_num = data_h5['data_num'][...].astype(np.int32)\n",
    "        batch_num = data.shape[0]\n",
    "\n",
    "        labels_pred = np.full((batch_num, max_point_num), -1, dtype=np.int32)\n",
    "        confidences_pred = np.zeros((batch_num, max_point_num), dtype=np.float32)\n",
    "\n",
    "        #print('{}-{:d} testing batches.'.format(datetime.now(), batch_num))\n",
    "        for batch_idx in tqdm(range(batch_num)):\n",
    "            #if batch_idx % 10 == 0:\n",
    "            #print('{}-Processing {} of {} batches.'.format(datetime.now(), batch_idx, batch_num))\n",
    "            points_batch = data[[batch_idx] * batch_size, ...]\n",
    "            point_num = data_num[batch_idx]\n",
    "            if(point_num <= 10):\n",
    "                continue \n",
    "\n",
    "            tile_num = int(math.ceil((sample_num * batch_size) / point_num))\n",
    "            indices_shuffle = np.tile(np.arange(point_num), tile_num)[0:sample_num * batch_size]\n",
    "            np.random.shuffle(indices_shuffle)\n",
    "            indices_batch_shuffle = np.reshape(indices_shuffle, (batch_size, sample_num, 1))\n",
    "            indices_batch = np.concatenate((indices_batch_indices, indices_batch_shuffle), axis=2)\n",
    "\n",
    "            seg_probs = sess.run([seg_probs_op],\n",
    "                                    feed_dict={\n",
    "                                        pts_fts: points_batch,\n",
    "                                        indices: indices_batch,\n",
    "                                        is_training: False,\n",
    "                                    })\n",
    "            probs_2d = np.reshape(seg_probs, (sample_num * batch_size, -1))\n",
    "\n",
    "            predictions = [(-1, 0.0)] * point_num\n",
    "            for idx in range(sample_num * batch_size):\n",
    "                point_idx = indices_shuffle[idx]\n",
    "                probs = probs_2d[idx, :]\n",
    "                confidence = np.amax(probs)\n",
    "                label = np.argmax(probs)\n",
    "                if confidence > predictions[point_idx][1]:\n",
    "                    predictions[point_idx] = [label, confidence]\n",
    "            labels_pred[batch_idx, 0:point_num] = np.array([label for label, _ in predictions])\n",
    "            confidences_pred[batch_idx, 0:point_num] = np.array([confidence for _, confidence in predictions])\n",
    "\n",
    "        filename_pred = filename[:-3] + __predicate+ '_pred.h5'\n",
    "        print('{}-Saving {}...'.format(datetime.now(), filename_pred))\n",
    "        file = h5py.File(filename_pred, 'w')\n",
    "        file.create_dataset('data_num', data=data_num)\n",
    "        file.create_dataset('label_seg', data=labels_pred)\n",
    "        file.create_dataset('confidence', data=confidences_pred)\n",
    "        has_indices = 'indices_split_to_full' in data_h5\n",
    "        if has_indices:\n",
    "            file.create_dataset('indices_split_to_full', data=data_h5['indices_split_to_full'][...])\n",
    "        file.close()\n",
    "\n",
    "        if args['save_ply']:\n",
    "            print('{}-Saving ply of {}...'.format(datetime.now(), filename_pred))\n",
    "            filepath_label_ply = os.path.join(filename_pred[:-3] + 'ply_label')\n",
    "            data_utils.save_ply_property_batch(data[:, :, 0:3], labels_pred[...],\n",
    "                                               filepath_label_ply, data_num[...], setting.num_class)\n",
    "        ######################################################################\n",
    "    print('{}-Done!'.format(datetime.now()))\n"
   ]
  },
  {
   "cell_type": "code",
   "execution_count": 5,
   "metadata": {},
   "outputs": [],
   "source": [
    "\n",
    "pred_list = [pred for pred in os.listdir(pred_path) if pred.split(\".\")[-1] == \"h5\" and __predicate in pred]"
   ]
  },
  {
   "cell_type": "code",
   "execution_count": 6,
   "metadata": {},
   "outputs": [
    {
     "name": "stderr",
     "output_type": "stream",
     "text": [
      "100%|██████████| 8/8 [01:03<00:00,  5.14s/it]\n"
     ]
    }
   ],
   "source": [
    "pred_list\n",
    "\n",
    "_result_preds = {}\n",
    "\n",
    "for i in testlists:\n",
    "    _result_preds[i] = [[],[]] #[[]Zero, []Half, FrameID]\n",
    "    \n",
    "for _file in tqdm(pred_list):\n",
    "\n",
    "    \n",
    "    origin_filename =  _file.replace(__predicate+ '_pred.h5', \".h5\")\n",
    "    #print(os.path.join(pred_path, origin_filename))\n",
    "    input_data = h5py.File(os.path.join(pred_path, origin_filename))\n",
    "    label = input_data['label'][...].astype(np.int32)\n",
    "    \n",
    "    frameids = np.unique(label)\n",
    "    \n",
    "    data = h5py.File(os.path.join(pred_path, _file))\n",
    "    labels_seg = data['label_seg'][...].astype(np.int64)\n",
    "    indices = data['indices_split_to_full'][...].astype(np.int64)\n",
    "    confidence = data['confidence'][...].astype(np.float32)\n",
    "    data_num = data['data_num'][...].astype(np.int64)\n",
    "    \n",
    "    for frame_id in (frameids):\n",
    "        labels_seg_frame = []\n",
    "        confidence_frame = []\n",
    "        idx_frame = []\n",
    "        ptnum_frame = []\n",
    "        indices_frame = np.nonzero(label==frame_id)\n",
    "        for i in  indices_frame[0]:\n",
    "\n",
    "            ptnum_frame.append(data_num[i])\n",
    "            idx_frame.append(indices[i,:data_num[i]])\n",
    "            labels_seg_frame.append(labels_seg[i,:data_num[i]])\n",
    "            confidence_frame.append(confidence[i,:data_num[i]])\n",
    "            \n",
    "        idx_frame = np.concatenate(idx_frame)\n",
    "        labels_seg_frame = np.concatenate(labels_seg_frame)\n",
    "        labels_seg_frame = labels_seg_frame.astype(int)\n",
    "        confidence_frame = np.concatenate(confidence_frame)\n",
    "        \n",
    "        is_half = 1 if \"_half_\" in origin_filename else 0\n",
    "        \n",
    "        _result_preds[frame_id][is_half] = [labels_seg_frame, confidence_frame, ptnum_frame, idx_frame]\n",
    "        \n",
    "    "
   ]
  },
  {
   "cell_type": "code",
   "execution_count": 7,
   "metadata": {},
   "outputs": [
    {
     "name": "stderr",
     "output_type": "stream",
     "text": [
      "100%|██████████| 2336/2336 [48:10<00:00,  1.23s/it]\n"
     ]
    }
   ],
   "source": [
    "\n",
    "final_label = {}\n",
    "\n",
    "for _i in tqdm(testlists):\n",
    "    \n",
    "    if len(_result_preds[_i][0][3]) == 0 or len(_result_preds[_i][1][3]) == 0 :\n",
    "        print(\"NO DATA\", _i)\n",
    "        continue\n",
    "        \n",
    "    label_length = max(max(_result_preds[_i][0][3]), max(_result_preds[_i][1][3]) )+1\n",
    "\n",
    "    merged_label_zero = np.zeros((label_length),dtype=int)\n",
    "    merged_confidence_zero = np.zeros((label_length),dtype=float)\n",
    "    merged_label_half = np.zeros((label_length), dtype=int)\n",
    "    merged_confidence_half = np.zeros((label_length), dtype=float)\n",
    "\n",
    "\n",
    "    final_label[_i] =  np.zeros((label_length), dtype=int) #[[]Zero, []Half, FrameID]\n",
    "    \n",
    "    is_zero = True \n",
    "    for pred_data in _result_preds[_i]:\n",
    "    \n",
    "        labels_seg = pred_data[0].astype(np.int64)\n",
    "        indices = pred_data[3].astype(np.int64)\n",
    "        confidence = pred_data[1].astype(np.float32)\n",
    "        data_num = np.array(pred_data[2]).astype(np.int64)\n",
    "\n",
    "        if is_zero:\n",
    "            for i in range(labels_seg.shape[0]):\n",
    "                \n",
    "                 if confidence[i] > merged_confidence_zero[indices[i]]:\n",
    "                    merged_confidence_zero[indices[i]] = confidence[i]\n",
    "                    merged_label_zero[indices[i]] = labels_seg[i]\n",
    "                                \n",
    "        else:\n",
    "            for i in range(labels_seg.shape[0]):\n",
    "                 if confidence[i] > merged_confidence_half[indices[i]]:\n",
    "                    merged_confidence_half[indices[i]] = confidence[i]\n",
    "                    merged_label_half[indices[i]] = labels_seg[i]\n",
    "                \n",
    "        is_zero = False\n",
    "\n",
    "    final_label[_i][merged_confidence_zero >= merged_confidence_half] = merged_label_zero[merged_confidence_zero >= merged_confidence_half]\n",
    "    final_label[_i][merged_confidence_zero < merged_confidence_half] = merged_label_half[merged_confidence_zero < merged_confidence_half]"
   ]
  },
  {
   "cell_type": "code",
   "execution_count": 8,
   "metadata": {},
   "outputs": [],
   "source": [
    "np.savez(__dataset_final_result + __predicate +\"-final-pred.npz\", final_label)"
   ]
  },
  {
   "cell_type": "code",
   "execution_count": 9,
   "metadata": {},
   "outputs": [
    {
     "data": {
      "text/plain": [
       "'/home/hasan/data/hdd8TB/KITTI/3D-object-detection//pointcnn-dataset/with-reflectance+merged-10000+non-normalized+block-200/val/A-XCRFblock-200-final-pred.npz'"
      ]
     },
     "execution_count": 9,
     "metadata": {},
     "output_type": "execute_result"
    }
   ],
   "source": [
    "__dataset_final_result + __predicate +\"-final-pred.npz\""
   ]
  },
  {
   "cell_type": "code",
   "execution_count": null,
   "metadata": {},
   "outputs": [],
   "source": []
  }
 ],
 "metadata": {
  "kernelspec": {
   "display_name": "Python 2",
   "language": "python",
   "name": "python2"
  },
  "language_info": {
   "codemirror_mode": {
    "name": "ipython",
    "version": 2
   },
   "file_extension": ".py",
   "mimetype": "text/x-python",
   "name": "python",
   "nbconvert_exporter": "python",
   "pygments_lexer": "ipython2",
   "version": "2.7.15"
  }
 },
 "nbformat": 4,
 "nbformat_minor": 2
}
